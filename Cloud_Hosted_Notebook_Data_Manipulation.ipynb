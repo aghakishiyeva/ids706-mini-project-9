{
  "nbformat": 4,
  "nbformat_minor": 0,
  "metadata": {
    "colab": {
      "provenance": [],
      "authorship_tag": "ABX9TyP4j+gyaT6N16pDNpbTAeSI",
      "include_colab_link": true
    },
    "kernelspec": {
      "name": "python3",
      "display_name": "Python 3"
    },
    "language_info": {
      "name": "python"
    }
  },
  "cells": [
    {
      "cell_type": "markdown",
      "metadata": {
        "id": "view-in-github",
        "colab_type": "text"
      },
      "source": [
        "<a href=\"https://colab.research.google.com/github/aghakishiyeva/ids706-mini-project-9/blob/main/Cloud_Hosted_Notebook_Data_Manipulation.ipynb\" target=\"_parent\"><img src=\"https://colab.research.google.com/assets/colab-badge.svg\" alt=\"Open In Colab\"/></a>"
      ]
    },
    {
      "cell_type": "code",
      "execution_count": 1,
      "metadata": {
        "colab": {
          "base_uri": "https://localhost:8080/"
        },
        "id": "ICkgem8QVxwO",
        "outputId": "211709cc-df42-4111-a174-f731ae7a78b7"
      },
      "outputs": [
        {
          "output_type": "stream",
          "name": "stdout",
          "text": [
            "Mean:\n",
            " fixed acidity            8.319637\n",
            "volatile acidity         0.527821\n",
            "citric acid              0.270976\n",
            "residual sugar           2.538806\n",
            "chlorides                0.087467\n",
            "free sulfur dioxide     15.874922\n",
            "total sulfur dioxide    46.467792\n",
            "density                  0.996747\n",
            "pH                       3.311113\n",
            "sulphates                0.658149\n",
            "alcohol                 10.422983\n",
            "quality                  5.636023\n",
            "dtype: float64\n",
            "\n",
            "Median:\n",
            " fixed acidity            7.90000\n",
            "volatile acidity         0.52000\n",
            "citric acid              0.26000\n",
            "residual sugar           2.20000\n",
            "chlorides                0.07900\n",
            "free sulfur dioxide     14.00000\n",
            "total sulfur dioxide    38.00000\n",
            "density                  0.99675\n",
            "pH                       3.31000\n",
            "sulphates                0.62000\n",
            "alcohol                 10.20000\n",
            "quality                  6.00000\n",
            "dtype: float64\n",
            "\n",
            "Standard Deviation:\n",
            " fixed acidity            1.741096\n",
            "volatile acidity         0.179060\n",
            "citric acid              0.194801\n",
            "residual sugar           1.409928\n",
            "chlorides                0.047065\n",
            "free sulfur dioxide     10.460157\n",
            "total sulfur dioxide    32.895324\n",
            "density                  0.001887\n",
            "pH                       0.154386\n",
            "sulphates                0.169507\n",
            "alcohol                  1.065668\n",
            "quality                  0.807569\n",
            "dtype: float64\n",
            "Statistics generated in 0.1987595558166504 seconds.\n"
          ]
        }
      ],
      "source": [
        "import pandas as pd\n",
        "import time\n",
        "import os\n",
        "\n",
        "def compute_stats_and_export():\n",
        "    # Read dataset\n",
        "    start_time = time.time()\n",
        "    data_path = \"https://raw.githubusercontent.com/aghakishiyeva/ids706-mini-project-9/main/data/winequality-red.csv\"\n",
        "    data = pd.read_csv(data_path)\n",
        "\n",
        " # Compute statistics\n",
        "    mean = data.mean()\n",
        "    median = data.median()\n",
        "    std = data.std()\n",
        "    end_time = time.time()\n",
        "\n",
        "    # Time taken to compute statistics\n",
        "    time_taken = end_time - start_time\n",
        "\n",
        "    # Printing results\n",
        "    print(\"Mean:\\n\", mean)\n",
        "    print(\"\\nMedian:\\n\", median)\n",
        "    print(\"\\nStandard Deviation:\\n\", std)\n",
        "    print(f\"Statistics generated in {time_taken} seconds.\")\n",
        "\n",
        "\n",
        "if __name__ == \"__main__\":\n",
        "    compute_stats_and_export()"
      ]
    }
  ]
}